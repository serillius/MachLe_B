{
 "cells": [
  {
   "cell_type": "markdown",
   "metadata": {},
   "source": [
    "# Factors that influence the salary (wages, earning)\n",
    "Exam Example"
   ]
  },
  {
   "cell_type": "markdown",
   "metadata": {},
   "source": [
    "Enter your name here:\n",
    "\n",
    "## Name:\n",
    "\n",
    "## First Name:\n",
    "    "
   ]
  },
  {
   "cell_type": "markdown",
   "metadata": {},
   "source": [
    "We are given one-hot encoded panel data on earnings of 595 individuals for the years 1976–1982, originating from the [Panel Study of Income Dynamics](https://rdrr.io/cran/AER/man/PSID7682.html). The data were originally analyzed by Cornwell and Rupert (1988) and employed for assessing various instrumental-variable estimators for panel models.\n",
    "\n",
    "**Your task is to predict the earnings class (`wage_class`) based on the remaining features.**"
   ]
  },
  {
   "cell_type": "code",
   "execution_count": null,
   "metadata": {},
   "outputs": [],
   "source": [
    "%%html\n",
    "<style> |\n",
    "table td, table th, table tr {text-align:left !important;}\n",
    "</style>"
   ]
  },
  {
   "cell_type": "markdown",
   "metadata": {},
   "source": [
    "A data frame containing 7 annual observations on 12 variables for 595 individuals.\n",
    "\n",
    "\n",
    "| feature | description |\n",
    "| --------| -------------|\n",
    "| `experience` | Years of full-time work experience |\n",
    "| `weeks` | Weeks worked |\n",
    "| ` education` | Years of education. |\n",
    "| `occupation_white` | factor. Is the individual a white-collar (\"white\"=`True`) or blue-collar (\"blue\"=`False`) worker? |\n",
    "| `industry` | factor. Does the individual work in a manufacturing industry? |\n",
    "| `south_yes` |factor. Does the individual reside in the South? |\n",
    "| `smsa_yes` |factor. Does the individual reside in a SMSA (standard metropolitan statistical area)? |\n",
    "| `married_yes` |factor. Is the individual married? |\n",
    "| `gender_male` | factor indicating a male gender. |\n",
    "| `union_yes` | factor. Is the individual's wage set by a union contract? |\n",
    "| `ethnicity_other` |factor indicating ethnicity. Is the individual African-American (\"afam\") or not (\"other\")? |\n",
    "| `wage_class` | **resopnse** $y$: Wage class (`['average, 'high', 'low', 'very high']`) |\n",
    "\n",
    "\n",
    "\n"
   ]
  },
  {
   "cell_type": "markdown",
   "metadata": {},
   "source": [
    "\n",
    "Here, we import the necessary libraries.\n"
   ]
  },
  {
   "cell_type": "code",
   "execution_count": null,
   "metadata": {
    "execution": {
     "iopub.execute_input": "2021-06-05T08:01:16.05676Z",
     "iopub.status.busy": "2021-06-05T08:01:16.05617Z",
     "iopub.status.idle": "2021-06-05T08:01:17.854819Z",
     "shell.execute_reply": "2021-06-05T08:01:17.853854Z",
     "shell.execute_reply.started": "2021-06-05T08:01:16.056729Z"
    }
   },
   "outputs": [],
   "source": [
    "# Basic Libraries\n",
    "import numpy as np\n",
    "import pandas as pd\n",
    "import matplotlib.pyplot as plt\n",
    "\n",
    "# Evaluation & CV Libraries\n",
    "from sklearn.metrics import precision_score, accuracy_score\n",
    "from sklearn.model_selection import GridSearchCV\n"
   ]
  },
  {
   "cell_type": "code",
   "execution_count": null,
   "metadata": {
    "execution": {
     "iopub.execute_input": "2021-06-05T08:01:18.07429Z",
     "iopub.status.busy": "2021-06-05T08:01:18.073955Z",
     "iopub.status.idle": "2021-06-05T08:01:18.098555Z",
     "shell.execute_reply": "2021-06-05T08:01:18.097331Z",
     "shell.execute_reply.started": "2021-06-05T08:01:18.074262Z"
    }
   },
   "outputs": [],
   "source": [
    "df_onehot=pd.read_csv('PSID_earnings_onehot.csv', index_col=0)\n",
    "#df.info()\n",
    "df_onehot.head()"
   ]
  },
  {
   "cell_type": "markdown",
   "metadata": {},
   "source": [
    "We check for missing values and NaN, and remove them."
   ]
  },
  {
   "cell_type": "code",
   "execution_count": null,
   "metadata": {},
   "outputs": [],
   "source": [
    "#drop missing values\n",
    "df_onehot.dropna(inplace=True)\n",
    "df_onehot.isnull().sum()"
   ]
  },
  {
   "cell_type": "markdown",
   "metadata": {},
   "source": [
    "### (a) Extract the features $X$ and the response (label, target) $y$ of the dataset\n",
    "\n",
    "- generate a `numpy` array `X` that contains the features $X$.\n",
    "- generate a `numpy` array `y` that contains the response $y$.\n"
   ]
  },
  {
   "cell_type": "code",
   "execution_count": null,
   "metadata": {},
   "outputs": [],
   "source": [
    "# START CODE HERE \n",
    "\n",
    "# END CODE HERE "
   ]
  },
  {
   "cell_type": "markdown",
   "metadata": {},
   "source": [
    "### (b) Plot a histogram of the response $y$ (`'wage_class'`)\n",
    "- Are the classes well balanced?\n",
    "- Answer: ..."
   ]
  },
  {
   "cell_type": "code",
   "execution_count": null,
   "metadata": {},
   "outputs": [],
   "source": [
    "#START CODE HERE\n",
    "\n",
    "#END CODE HERE"
   ]
  },
  {
   "cell_type": "markdown",
   "metadata": {},
   "source": [
    "### (c) Split the data in 80% training data and 20% test data\n"
   ]
  },
  {
   "cell_type": "code",
   "execution_count": null,
   "metadata": {
    "execution": {
     "iopub.execute_input": "2021-06-05T08:01:21.743417Z",
     "iopub.status.busy": "2021-06-05T08:01:21.742778Z",
     "iopub.status.idle": "2021-06-05T08:01:21.757137Z",
     "shell.execute_reply": "2021-06-05T08:01:21.755894Z",
     "shell.execute_reply.started": "2021-06-05T08:01:21.743194Z"
    }
   },
   "outputs": [],
   "source": [
    "# Data Pre-processing Libraries\n",
    "from sklearn.model_selection import train_test_split\n",
    "\n",
    "# START CODE HERE \n",
    "\n",
    "\n",
    "# END CODE HERE "
   ]
  },
  {
   "cell_type": "markdown",
   "metadata": {},
   "source": [
    "### (d) Use the `StandardScaler` to standardize the data"
   ]
  },
  {
   "cell_type": "code",
   "execution_count": null,
   "metadata": {
    "execution": {
     "iopub.execute_input": "2021-06-05T08:01:21.759737Z",
     "iopub.status.busy": "2021-06-05T08:01:21.759111Z",
     "iopub.status.idle": "2021-06-05T08:01:21.774403Z",
     "shell.execute_reply": "2021-06-05T08:01:21.773139Z",
     "shell.execute_reply.started": "2021-06-05T08:01:21.759687Z"
    }
   },
   "outputs": [],
   "source": [
    "# Data Pre-processing Libraries\n",
    "from sklearn.preprocessing import StandardScaler\n",
    "\n",
    "#START CODE HERE\n",
    "\n",
    "\n",
    "\n",
    "#END CODE HERE"
   ]
  },
  {
   "cell_type": "markdown",
   "metadata": {},
   "source": [
    "### (e) Model Evaluation\n",
    "\n",
    "Use the following **classifiers as baseline** for your classification and evaluate the **precision** (macro average: `average='macro'`) on the training and test data for each of these classifiers\n",
    "\n",
    "- Random Forest classifier (`RandomForestClassifier`) with standard parameters\n",
    "- k-nearest neighbors classifier (`KNeighborsClassifier`) with `k=3`\n",
    "  \n"
   ]
  },
  {
   "cell_type": "code",
   "execution_count": null,
   "metadata": {},
   "outputs": [],
   "source": [
    "# Modelling Libraries\n",
    "from sklearn.ensemble import RandomForestClassifier\n",
    "from sklearn.neighbors import KNeighborsClassifier\n",
    "\n",
    "from sklearn.metrics import precision_score, accuracy_score\n",
    "from sklearn.metrics import confusion_matrix, ConfusionMatrixDisplay\n",
    "\n",
    "classes=['average', 'high', 'low', 'very high']\n"
   ]
  },
  {
   "cell_type": "code",
   "execution_count": null,
   "metadata": {
    "execution": {
     "iopub.execute_input": "2021-06-05T08:01:21.776369Z",
     "iopub.status.busy": "2021-06-05T08:01:21.776023Z",
     "iopub.status.idle": "2021-06-05T08:01:24.818316Z",
     "shell.execute_reply": "2021-06-05T08:01:24.817207Z",
     "shell.execute_reply.started": "2021-06-05T08:01:21.776337Z"
    }
   },
   "outputs": [],
   "source": [
    "#START CODE HERE\n",
    "\n",
    "\n",
    "\n",
    "#END CODE HERE"
   ]
  },
  {
   "cell_type": "markdown",
   "metadata": {},
   "source": [
    "### (f) Plot a confusion matrix for each classifier and interpret the results\n",
    "\n",
    "Plot a **Confusion Matrix** for each of the two classifiers, e.g. using\n",
    "   - `cm = confusion_matrix(y_test, y_pred, labels=model.classes_)`\n",
    "   - ` disp = ConfusionMatrixDisplay(confusion_matrix=cm, display_labels=model.classes_)`\n",
    "   \n",
    "\n",
    "Enter your comments in at least two sentences here:\n",
    "- ...\n",
    "- ..."
   ]
  },
  {
   "cell_type": "markdown",
   "metadata": {
    "execution": {
     "iopub.execute_input": "2021-06-04T18:26:28.073856Z",
     "iopub.status.busy": "2021-06-04T18:26:28.073392Z",
     "iopub.status.idle": "2021-06-04T18:26:28.081845Z",
     "shell.execute_reply": "2021-06-04T18:26:28.080138Z",
     "shell.execute_reply.started": "2021-06-04T18:26:28.073817Z"
    }
   },
   "source": [
    "###  (g) Hyperparameter Tuning of random forest\n",
    "\n",
    "- Tune the hyperparameters a Random Forest Classifier `RandomForestClassifier()` using a 10-fold crossvalidated grid search using `GridSearchCV`. \n",
    "- Use the following hyperparameters for your grid search:\n",
    "    - `params= {'n_estimators':[10,50,100,200], 'max_depth':list(range(1,7))}`\n",
    "- Use the F1 (`f1_macro`) score as a metric.\n",
    "- What are the best parameters out of the grid?"
   ]
  },
  {
   "cell_type": "code",
   "execution_count": null,
   "metadata": {
    "execution": {
     "iopub.execute_input": "2021-06-05T08:01:24.830538Z",
     "iopub.status.busy": "2021-06-05T08:01:24.830101Z",
     "iopub.status.idle": "2021-06-05T08:01:24.844933Z",
     "shell.execute_reply": "2021-06-05T08:01:24.843484Z",
     "shell.execute_reply.started": "2021-06-05T08:01:24.830493Z"
    }
   },
   "outputs": [],
   "source": [
    "from sklearn.model_selection import GridSearchCV\n",
    "\n",
    "rf=RandomForestClassifier()\n",
    "params= {'n_estimators':[10,50,100,200],\n",
    "         'max_depth':list(range(1,7))}"
   ]
  },
  {
   "cell_type": "code",
   "execution_count": null,
   "metadata": {
    "execution": {
     "iopub.execute_input": "2021-06-05T08:01:24.847354Z",
     "iopub.status.busy": "2021-06-05T08:01:24.846867Z",
     "iopub.status.idle": "2021-06-05T08:15:00.418767Z",
     "shell.execute_reply": "2021-06-05T08:15:00.416682Z",
     "shell.execute_reply.started": "2021-06-05T08:01:24.847303Z"
    }
   },
   "outputs": [],
   "source": [
    "from sklearn.model_selection import cross_val_score\n",
    "\n",
    "#START CODE HERE\n",
    "\n",
    "\n",
    "\n",
    "#END CODE HERE\n"
   ]
  },
  {
   "cell_type": "markdown",
   "metadata": {},
   "source": [
    "### (h) Compute and plot the permutation feature importances of the best tuned random forest classifier\n",
    "- What are the most important factors for a high salary?\n"
   ]
  },
  {
   "cell_type": "code",
   "execution_count": null,
   "metadata": {},
   "outputs": [],
   "source": [
    "from sklearn.inspection import permutation_importance\n",
    "\n",
    "#START CODE HERE \n",
    "\n",
    "\n",
    "#END CODE HERE\n"
   ]
  },
  {
   "cell_type": "markdown",
   "metadata": {},
   "source": [
    "###  (i) Hyperparameter Tuning of kNN\n",
    "\n",
    "- Hypertune a K-nearest neighbour classifier `KNeighborsClassifier()` using a 10-fold crossvalidated grid search. \n",
    "- Use the following parameters for your grid search:\n",
    "    - `params= {'n_neighbors':list(range(20,50))}`\n",
    "- Use the F1 score (`scoring=f1_macro`) as a metric.\n",
    "- What are the best parameters for the number of neighbours?"
   ]
  },
  {
   "cell_type": "code",
   "execution_count": null,
   "metadata": {},
   "outputs": [],
   "source": [
    "knn=KNeighborsClassifier()\n",
    "params= {'n_neighbors':list(range(20,50))}"
   ]
  },
  {
   "cell_type": "code",
   "execution_count": null,
   "metadata": {},
   "outputs": [],
   "source": [
    "#START CODE HERE\n",
    "\n",
    "\n",
    "#END CODE HERE\n"
   ]
  },
  {
   "cell_type": "markdown",
   "metadata": {},
   "source": [
    "### (j) Compare and discuss the different approaches\n",
    "\n",
    "- Considering the classifiers (e/f) where the hyperparameters were not tuned and those where the hyperparameters were tuned (g/i), respectively, which classifier would you recommend and why?\n",
    "\n",
    "Answers:\n",
    "- ...\n",
    "- ... "
   ]
  },
  {
   "cell_type": "markdown",
   "metadata": {},
   "source": [
    "## Upload this notebook as ipynb-File and as html-File (File  →  Download as  →  HTML) to the upload field of this question (2 files are allowed). "
   ]
  }
 ],
 "metadata": {
  "kernelspec": {
   "display_name": "Python 3 (ipykernel)",
   "language": "python",
   "name": "python3"
  },
  "language_info": {
   "codemirror_mode": {
    "name": "ipython",
    "version": 3
   },
   "file_extension": ".py",
   "mimetype": "text/x-python",
   "name": "python",
   "nbconvert_exporter": "python",
   "pygments_lexer": "ipython3",
   "version": "3.10.13"
  },
  "nbTranslate": {
   "displayLangs": [
    "*"
   ],
   "hotkey": "alt-t",
   "langInMainMenu": true,
   "sourceLang": "en",
   "targetLang": "fr",
   "useGoogleTranslate": true
  }
 },
 "nbformat": 4,
 "nbformat_minor": 4
}
